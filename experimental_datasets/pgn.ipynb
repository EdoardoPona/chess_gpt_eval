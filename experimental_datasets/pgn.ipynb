{
 "cells": [
  {
   "cell_type": "code",
   "execution_count": 3,
   "metadata": {},
   "outputs": [],
   "source": [
    "import re\n",
    "import csv\n",
    "\n",
    "def extract_games_from_pgn(filename):\n",
    "    with open(filename, 'r') as file:\n",
    "        data = file.read()\n",
    "\n",
    "    # Regular expression to match the games without the scores\n",
    "    games = re.findall(r'\\b1\\.[^\\[]+?(?=\\s[01]/[012]-[01]/[012])', data, re.DOTALL)\n",
    "\n",
    "    \n",
    "    return games\n",
    "\n",
    "def save_to_csv(games, output_filename):\n",
    "    with open(output_filename, 'w', newline='') as file:\n",
    "        writer = csv.writer(file)\n",
    "        writer.writerow(['Game'])\n",
    "        for game in games:\n",
    "            writer.writerow([game.replace('\\n', ' ')])\n",
    "\n",
    "if __name__ == \"__main__\":\n",
    "    filename = \"Carlsen.pgn\"\n",
    "    games = extract_games_from_pgn(filename)\n",
    "    save_to_csv(games, 'games.csv')\n"
   ]
  },
  {
   "cell_type": "code",
   "execution_count": 4,
   "metadata": {},
   "outputs": [
    {
     "name": "stdout",
     "output_type": "stream",
     "text": [
      "count    1804.000000\n",
      "mean       48.019401\n",
      "std        19.271397\n",
      "min         4.000000\n",
      "25%        35.000000\n",
      "50%        45.000000\n",
      "75%        59.000000\n",
      "max       174.000000\n",
      "dtype: float64\n"
     ]
    },
    {
     "data": {
      "image/png": "[encoded data removed]",
      "text/plain": [
       "<Figure size 640x480 with 1 Axes>"
      ]
     },
     "metadata": {},
     "output_type": "display_data"
    }
   ],
   "source": [
    "import csv\n",
    "import pandas as pd\n",
    "import matplotlib.pyplot as plt\n",
    "\n",
    "# Read the CSV file\n",
    "def read_csv(filename):\n",
    "    with open(filename, 'r') as file:\n",
    "        reader = csv.reader(file)\n",
    "        next(reader)  # Skip the header\n",
    "        games = [row[0] for row in reader]\n",
    "    return games\n",
    "\n",
    "# Extract the number of moves from each game\n",
    "def get_moves_count(game):\n",
    "    # Split the game string by spaces and divide by 2 (because every 2 strings represent a move for white and black)\n",
    "    return len(game.split()) // 2\n",
    "\n",
    "# Analyze the distribution of game lengths\n",
    "def analyze_distribution(games):\n",
    "    moves_counts = [get_moves_count(game) for game in games]\n",
    "    \n",
    "    # Use pandas for statistical analysis\n",
    "    series = pd.Series(moves_counts)\n",
    "    print(series.describe())\n",
    "\n",
    "    # Plot the distribution\n",
    "    plt.hist(moves_counts, bins=range(1, series.max() + 2), align='left', edgecolor='black')\n",
    "    plt.xlabel('Number of Moves')\n",
    "    plt.ylabel('Number of Games')\n",
    "    plt.title('Distribution of Game Lengths')\n",
    "    plt.show()\n",
    "\n",
    "if __name__ == \"__main__\":\n",
    "    games = read_csv('games.csv')\n",
    "    analyze_distribution(games)\n"
   ]
  },
  {
   "cell_type": "code",
   "execution_count": 9,
   "metadata": {},
   "outputs": [],
   "source": [
    "import pandas as pd\n",
    "\n",
    "# Load the games.csv file\n",
    "df = pd.read_csv('games.csv')\n",
    "\n",
    "# Create new_games.csv\n",
    "df['prompt'] = '[White \"Magnus Carlsen\"]\\n[Black \"Stockfish\"]'\n",
    "df.at[0, 'prompt'] = '[White \"Stockfish\"]\\n[Black \"Stockfish\"]'\n",
    "new_df = df[['prompt', 'completion']]  # Reorder the columns\n",
    "new_df.to_csv('new_games.csv', index=False)\n",
    "\n",
    "# Create new_games_10.csv\n",
    "new_df_10 = new_df.sample(frac=0.05, random_state=42)  # Sample 10% of the rows\n",
    "new_df_10.at[new_df_10.index[0], 'prompt'] = '[White \"Stockfish\"]\\n[Black \"Stockfish\"]'\n",
    "new_df_10.to_csv('new_games_05.csv', index=False)\n",
    "\n",
    "# Create new_games_100.csv\n",
    "new_df_100 = new_df.sample(frac=0.01, random_state=42)  # Sample 1% of the rows\n",
    "new_df_100.at[new_df_100.index[0], 'prompt'] = '[White \"Stockfish\"]\\n[Black \"Stockfish\"]'\n",
    "new_df_100.to_csv('new_games_100.csv', index=False)\n"
   ]
  },
  {
   "cell_type": "code",
   "execution_count": null,
   "metadata": {},
   "outputs": [],
   "source": [
    "import csv\n",
    "import json\n",
    "\n",
    "# Open the CSV file and read it\n",
    "with open('new_games.csv', 'r', newline='', encoding='utf-8') as csvfile:\n",
    "    reader = csv.DictReader(csvfile)\n",
    "\n",
    "    # Open the JSONL file to write the converted data\n",
    "    with open('output_file.jsonl', 'w', encoding='utf-8') as jsonlfile:\n",
    "        for row in reader:\n",
    "            # Extract prompt and completion from each row\n",
    "            prompt = row['prompt']\n",
    "            completion = row['completion']\n",
    "\n",
    "            # Create a new dictionary with keys instruction and output\n",
    "            new_dict = {\n",
    "                \"instruction\": prompt,\n",
    "                \"output\": completion\n",
    "            }\n",
    "\n",
    "            # Write the new dictionary to the JSONL file as a JSON string\n",
    "            jsonlfile.write(json.dumps(new_dict) + '\\n')\n",
    "\n",
    "print(\"Conversion complete!\")\n"
   ]
  }
 ],
 "metadata": {
  "kernelspec": {
   "display_name": "openai",
   "language": "python",
   "name": "python3"
  },
  "language_info": {
   "codemirror_mode": {
    "name": "ipython",
    "version": 3
   },
   "file_extension": ".py",
   "mimetype": "text/x-python",
   "name": "python",
   "nbconvert_exporter": "python",
   "pygments_lexer": "ipython3",
   "version": "3.10.13"
  },
  "orig_nbformat": 4
 },
 "nbformat": 4,
 "nbformat_minor": 2
}
