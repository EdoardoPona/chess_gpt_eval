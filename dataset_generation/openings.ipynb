{
 "cells": [
  {
   "cell_type": "code",
   "execution_count": null,
   "metadata": {},
   "outputs": [],
   "source": [
    "import pandas as pd\n",
    "import random\n",
    "\n",
    "# Load the dataset\n",
    "games_df = pd.read_csv('games.csv')\n",
    "\n",
    "def extract_opening_moves(game_str, min_moves=3, max_moves=7):\n",
    "    # Split the game string into individual moves\n",
    "    moves = game_str.split()\n",
    "    # Randomly choose the number of opening moves to extract\n",
    "    num_moves = random.randint(min_moves, max_moves) * 2  # Multiply by 2 to account for both white and black moves\n",
    "    # Extract the opening moves and join them back into a string\n",
    "    opening_moves = \" \".join(moves[:min(num_moves, len(moves))])\n",
    "    return opening_moves\n",
    "\n",
    "# Apply the function to the 'completion' column\n",
    "games_df['opening'] = games_df['completion'].apply(extract_opening_moves)\n",
    "\n",
    "# Optionally, you can save the openings to a new CSV file\n",
    "games_df[['opening']].to_csv('openings.csv', index=False)\n",
    "\n",
    "# If you want to view the first few rows to check the result\n",
    "print(games_df[['opening']].head())\n"
   ]
  }
 ],
 "metadata": {
  "language_info": {
   "name": "python"
  },
  "orig_nbformat": 4
 },
 "nbformat": 4,
 "nbformat_minor": 2
}
