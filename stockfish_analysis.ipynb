{
 "cells": [
  {
   "cell_type": "code",
   "execution_count": 11,
   "metadata": {},
   "outputs": [],
   "source": [
    "# For reference   \n",
    "\n",
    " # info_dict = {\n",
    "    #     \"game_id\": unique_game_id,\n",
    "    #     \"transcript\": game_state,\n",
    "    #     \"result\": result,\n",
    "    #     \"player_one\": player_one_title,\n",
    "    #     \"player_two\": player_two_title,\n",
    "    #     \"player_one_time\": player_one_time,\n",
    "    #     \"player_two_time\": player_two_time,\n",
    "    #     \"player_one_score\": player_one_score,\n",
    "    #     \"player_two_score\": player_two_score,\n",
    "    #     \"player_one_illegal_moves\": player_one_illegal_moves,\n",
    "    #     \"player_two_illegal_moves\": player_two_illegal_moves,\n",
    "    #     \"player_one_resignation\": player_one_resignation,\n",
    "    #     \"player_two_resignation\": player_two_resignation,\n",
    "    #     \"game_title\": f\"{player_one_title} vs. {player_two_title}\",\n",
    "    #     \"number_of_moves\": board.fullmove_number,\n",
    "    #     \"time_taken\": total_time,\n",
    "    # }"
   ]
  },
  {
   "cell_type": "code",
   "execution_count": 13,
   "metadata": {},
   "outputs": [
    {
     "name": "stdout",
     "output_type": "stream",
     "text": [
      "      player_one    player_two  player_one_time  player_two_time\n",
      "0    Stockfish 0   Stockfish 0             0.01              0.1\n",
      "15   Stockfish 4   Stockfish 3             0.01              0.1\n",
      "30   Stockfish 8   Stockfish 7             0.01              0.1\n",
      "45  Stockfish 12  Stockfish 11             0.01              0.1\n",
      "60  Stockfish 16  Stockfish 15             0.01              0.1\n",
      "75  Stockfish 20  Stockfish 19             0.01              0.1\n",
      "Stockfish 0, Stockfish 0, 0.01, 0.1, 0.60, 0.40\n",
      "Stockfish 12, Stockfish 11, 0.01, 0.1, 0.00, 1.00\n",
      "Stockfish 16, Stockfish 15, 0.01, 0.1, 0.00, 1.00\n",
      "Stockfish 20, Stockfish 19, 0.01, 0.1, 0.20, 0.80\n",
      "Stockfish 4, Stockfish 3, 0.01, 0.1, 0.43, 0.57\n",
      "Stockfish 8, Stockfish 7, 0.01, 0.1, 0.69, 0.31\n"
     ]
    }
   ],
   "source": [
    "import pandas as pd\n",
    "\n",
    "df = pd.read_csv(\"logs/stockfish_testing.csv\")\n",
    "# Get and print all unique values from 'player_one' and 'player_two'\n",
    "# unique_player_one_values = df['player_one'].unique()\n",
    "# unique_player_two_values = df['player_two'].unique()\n",
    "# unique_game_titles = df['game_title'].unique()\n",
    "\n",
    "# print(\"Unique values for player_one:\", unique_player_one_values)\n",
    "# print(\"Unique values for player_two:\", unique_player_two_values)\n",
    "# print(\"Unique values for game_title:\", unique_game_titles)\n",
    "\n",
    "# Get unique combinations of 'player_one' and 'player_two'\n",
    "unique_combinations = df[['player_one', 'player_two', 'player_one_time', 'player_two_time']].drop_duplicates()\n",
    "\n",
    "# Print the unique combinations\n",
    "print(unique_combinations) \n",
    "\n",
    "# Convert 'player_one_score' and 'player_two_score' to numeric, if necessary\n",
    "df['player_one_score'] = pd.to_numeric(df['player_one_score'], errors='coerce')\n",
    "df['player_two_score'] = pd.to_numeric(df['player_two_score'], errors='coerce')\n",
    "\n",
    "\n",
    "# Group by the unique combinations and calculate the mean for each group\n",
    "average_scores = df.groupby(['player_one', 'player_two', 'player_one_time', 'player_two_time'])[['player_one_score', 'player_two_score']].mean()\n",
    "\n",
    "# Reset the index of the result to have a regular DataFrame\n",
    "average_scores_reset = average_scores.reset_index()\n",
    "\n",
    "from tabulate import tabulate\n",
    "\n",
    "# Assume average_scores_reset is your DataFrame\n",
    "print(tabulate(average_scores_reset, headers='keys', tablefmt='pretty', showindex=False))\n",
    "# filtered_game = df[\n",
    "#     (df['player_one'] == \"gpt-3.5-turbo-instruct\") &\n",
    "#     (df['player_two'] == \"Stockfish 9\") & \n",
    "#     (df['player_one_score'] != \"0\")\n",
    "# ]\n",
    "\n",
    "# print(filtered_game)"
   ]
  }
 ],
 "metadata": {
  "kernelspec": {
   "display_name": "openai",
   "language": "python",
   "name": "python3"
  },
  "language_info": {
   "codemirror_mode": {
    "name": "ipython",
    "version": 3
   },
   "file_extension": ".py",
   "mimetype": "text/x-python",
   "name": "python",
   "nbconvert_exporter": "python",
   "pygments_lexer": "ipython3",
   "version": "3.10.13"
  },
  "orig_nbformat": 4
 },
 "nbformat": 4,
 "nbformat_minor": 2
}
